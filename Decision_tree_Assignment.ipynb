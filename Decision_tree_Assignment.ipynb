{
  "nbformat": 4,
  "nbformat_minor": 0,
  "metadata": {
    "colab": {
      "provenance": []
    },
    "kernelspec": {
      "name": "python3",
      "display_name": "Python 3"
    },
    "language_info": {
      "name": "python"
    }
  },
  "cells": [
    {
      "cell_type": "markdown",
      "source": [
        "**THEORETICAL**"
      ],
      "metadata": {
        "id": "AcNl82pFltFh"
      }
    },
    {
      "cell_type": "markdown",
      "source": [
        "1. A Decision Tree is a popular machine learning algorithm used for both classification and regression tasks. It is a tree-like model that makes decisions based on a series of questions about the input features. The structure of a decision tree consists of nodes, branches, and leaves.\n",
        "\n",
        " Decision Trees Work\n",
        " * Data Splitting\n",
        " * Choosing best feature\n",
        " * Recursive Splitting\n",
        " *Prediction"
      ],
      "metadata": {
        "id": "p_T2NzTHmJbM"
      }
    },
    {
      "cell_type": "markdown",
      "source": [
        "2. Impurity measures are metrics used in decision trees to evaluate how well a particular feature splits the data into different classes. The goal is to choose the feature that results in the most homogeneous subsets, meaning that the samples in each subset are as similar as possible with respect to the target variable..\n",
        "\n",
        "*Gini Impurity\n",
        "\n",
        "*Entropy\n",
        "\n",
        "*Information Gain"
      ],
      "metadata": {
        "id": "XKeA5rRpmrBw"
      }
    },
    {
      "cell_type": "markdown",
      "source": [
        "3. The mathematical formula for Gini Impurity is\n",
        "\n",
        "[ Gini(D) = 1 - \\sum_{i=1}^{C} p_i^2 ]\n",
        "\n",
        "Where:\n",
        "\n",
        "( p_i ) is the proportion of instances of class ( i ) in the dataset ( D ).\n",
        "( C ) is the total number of classes in the dataset."
      ],
      "metadata": {
        "id": "vhR-mSlOnlOf"
      }
    },
    {
      "cell_type": "markdown",
      "source": [
        "4. The mathematical formula fro Entropy is\n",
        "\n",
        " [H(D) = - \\sum_{i=1}^{C} p_i \\log_2(p_i) ]\n",
        "\n",
        "Where:\n",
        "\n",
        "( p_i ) is the proportion of instances of class ( i ) in the dataset ( D ).\n",
        "( C ) is the total number of classes in the dataset.\n",
        "The logarithm is typically taken to base 2, which gives the entropy in bits."
      ],
      "metadata": {
        "id": "zg4g0NvdoAAG"
      }
    },
    {
      "cell_type": "markdown",
      "source": [
        "5. Information Gain is a key concept in decision tree algorithms, particularly in the context of classification tasks. It measures the effectiveness of an attribute (or feature) in reducing uncertainty about the target variable (class label) after a dataset is split based on that attribute. In simpler terms, it quantifies how much information a feature provides about the class labels.\n",
        "\n",
        "Usage of Information Gain in Decision Trees\n",
        "\n",
        "*Feature Selection: In the construction of a decision tree, Information Gain is used to select the best feature to split the dataset at each node. The feature with the highest Information Gain is chosen, as it provides the most information about the class labels.\n",
        "\n",
        "*Building the Tree: The decision tree algorithm recursively applies the Information Gain criterion to split the dataset until a stopping condition is met\n",
        "\n",
        "*Pruning: Information Gain can also be used in pruning techniques to remove branches that do not provide significant information, thereby reducing the complexity of the tree and improving generalization to unseen data."
      ],
      "metadata": {
        "id": "fUStdiOqoL9b"
      }
    },
    {
      "cell_type": "markdown",
      "source": [
        "6. Gini Impurity: Often leads to trees that are more balanced and less complex. It is commonly used in the CART (Classification and Regression Trees) algorithm.\n",
        "\n",
        "Entropy: Can lead to more complex trees, as it may favor splits that create more balanced class distributions. It is used in the ID3 and C4.5 algorithms."
      ],
      "metadata": {
        "id": "IOsQE33Yop_R"
      }
    },
    {
      "cell_type": "markdown",
      "source": [
        "7.The mathematical foundation of decision trees involves concepts from probability, information theory, and optimization. By using measures like Gini impurity and entropy, decision trees can effectively partition the data into subsets that lead to accurate predictions. The recursive nature of the algorithm allows it to build a model that captures complex relationships in the data, while techniques like pruning help maintain generalization to unseen data."
      ],
      "metadata": {
        "id": "b45Pk783pFQC"
      }
    },
    {
      "cell_type": "markdown",
      "source": [
        "8.Pre-pruning, also known as early stopping, is a technique used in the construction of decision trees to prevent overfitting. Overfitting occurs when a model learns not only the underlying patterns in the training data but also the noise, leading to poor generalization on unseen data. Pre-pruning aims to stop the growth of the tree before it becomes too complex, thereby simplifying the model and improving its performance on new data."
      ],
      "metadata": {
        "id": "nt7e1RQzp0FD"
      }
    },
    {
      "cell_type": "markdown",
      "source": [
        "9. Post-pruning is a technique used in decision tree algorithms to reduce the complexity of a fully grown tree after it has been constructed. Unlike pre-pruning, which stops the growth of the tree during its construction, post-pruning allows the tree to grow to its full size and then removes branches that do not provide significant predictive power. This helps to improve the model's generalization ability and reduce overfitting.\n"
      ],
      "metadata": {
        "id": "-pPISbwSp7PQ"
      }
    },
    {
      "cell_type": "markdown",
      "source": [
        "10. Pre-pruning and post-pruning are two techniques used in decision tree algorithms to prevent overfitting and improve the generalization ability of the model. While both aim to simplify the decision tree and enhance its performance on unseen data, they differ in their approach and timing...\n",
        "\n",
        "*Pre-pruning is useful for controlling complexity during tree construction, while post-pruning allows for a more flexible approach that can refine a fully grown tree based on its performance.\n",
        "\n"
      ],
      "metadata": {
        "id": "q47uuwcnqAIz"
      }
    },
    {
      "cell_type": "markdown",
      "source": [
        "11. A Decision Tree Regressor is a type of decision tree algorithm specifically designed for regression tasks, where the goal is to predict a continuous target variable rather than a categorical one. Like its counterpart for classification, the decision tree regressor uses a tree-like model to make predictions based on the input features.\n",
        "\n",
        "A Decision Tree Regressor is a powerful and interpretable tool for regression tasks that can model complex relationships in data. While they have some limitations, such as the potential for overfitting and sensitivity to noise, they can be effectively used in practice, especially when combined with techniques like pruning or ensemble methods (e.g., Random Forests) to enhance their performance and robustness."
      ],
      "metadata": {
        "id": "RiHOyuwuqYph"
      }
    },
    {
      "cell_type": "markdown",
      "source": [
        "12. **Advantages of Decision Trees**\n",
        "    1. Interpretability:\n",
        "    Decision trees are easy to understand and interpret. The tree structure visually represents the decision-making process, making it accessible to non-experts.\n",
        "    2. No need for feauture Scaling:\n",
        "    Decision trees do not require normalization or standardization of features. They can handle both numerical and categorical data without any preprocessing.\n",
        "    3. Versatile:\n",
        "    They can be used for both classification and regression tasks, making them a versatile tool in machine learning.\n",
        "\n",
        "    **Disadvantages of Decision Tress**\n",
        "\n",
        "    1. Overfitting:\n",
        "    Decision trees can easily become too complex and overfit the training data, especially if they are allowed to grow without constraints. This can lead to poor generalization on unseen data.\n",
        "    2. Greedy Algorithm:\n",
        "    Decision trees use a greedy approach to make splits, which means they make locally optimal decisions at each node without considering the global structure of the tree. This can lead to suboptimal trees.\n",
        "    3. Limited Expressiveness:\n",
        "    While decision trees can capture non-linear relationships, they may struggle with very complex patterns compared to other models like ensemble methods"
      ],
      "metadata": {
        "id": "gAW44Lg0q-s6"
      }
    },
    {
      "cell_type": "markdown",
      "source": [
        "13. Decision trees can manage missing values in several ways, depending on the implementation and the specific algorithm used.\n",
        "\n",
        "* Ignoring Missing Values\n",
        "* Imputation\n",
        "* Using Flag Variable\n",
        "* Handling missing Values during tree construction\n"
      ],
      "metadata": {
        "id": "a2CwPGxUr4Fi"
      }
    },
    {
      "cell_type": "markdown",
      "source": [
        "14. Decision trees can effectively handle categorical features, which are variables that represent discrete categories or groups. The way decision trees manage categorical features differs from how they handle numerical features.\n",
        "\n",
        "A. SPLITTING ON CATEGORICAL FEATURES\n",
        "   * Binary Splits\n",
        "   * Multi-Way Splits\n",
        "\n",
        "B. CHOOSING THE BEST SPLIT\n",
        "   * Gini Impurity\n",
        "   * Entropy\n",
        "\n",
        "C. HANDLING HIGH CARDINALITY\n",
        "   * Overfitting\n",
        "   * pruning\n",
        "\n",
        "D. ENCODING CATEGORICAL FEATURES\n",
        "   * Label Encoding\n",
        "   * On-Hot Encoding\n",
        "\n",
        "E. HANDLING MISSING VALUES IN CATEGORIVAL FEATURES\n",
        "   * Ignoring Missing Values\n",
        "   * Using Surrogate Splits\n",
        "   * Imputation"
      ],
      "metadata": {
        "id": "6AgvBuKvsXXd"
      }
    },
    {
      "cell_type": "markdown",
      "source": [
        "15. Decision trees are versatile machine learning models that can be applied to a wide range of real-world problems across various domains\n",
        "\n",
        "* Healthcare\n",
        "* Finance\n",
        "* Marketing\n",
        "* Retail\n",
        "* Education"
      ],
      "metadata": {
        "id": "3tE1M0swtZGv"
      }
    },
    {
      "cell_type": "markdown",
      "source": [
        "**PRACTICAL**"
      ],
      "metadata": {
        "id": "zOpJfWsStnrD"
      }
    },
    {
      "cell_type": "markdown",
      "source": [
        "16."
      ],
      "metadata": {
        "id": "HekQ91rvu-09"
      }
    },
    {
      "cell_type": "code",
      "source": [
        "import numpy as np\n",
        "import pandas as pd\n",
        "from sklearn.datasets import load_iris\n",
        "from sklearn.model_selection import train_test_split\n",
        "from sklearn.tree import DecisionTreeClassifier\n",
        "from sklearn.metrics import accuracy_score\n",
        "\n",
        "\n",
        "iris = load_iris()\n",
        "X = iris.data\n",
        "y = iris.target\n",
        "\n",
        "X_train, X_test, y_train, y_test = train_test_split(X, y, test_size=0.2, random_state=42)\n",
        "\n",
        "\n",
        "clf = DecisionTreeClassifier(random_state=42)\n",
        "\n",
        "# Train the model\n",
        "clf.fit(X_train, y_train)\n",
        "\n",
        "\n",
        "y_pred = clf.predict(X_test)\n",
        "\n",
        "# Calculate the accuracy\n",
        "accuracy = accuracy_score(y_test, y_pred)\n",
        "\n",
        "# Print the accuracy\n",
        "print(f\"Model Accuracy:\")"
      ],
      "metadata": {
        "colab": {
          "base_uri": "https://localhost:8080/"
        },
        "id": "cJg-ow65t2Kr",
        "outputId": "6cd30287-3010-4466-eaa9-41f6d6858490"
      },
      "execution_count": 3,
      "outputs": [
        {
          "output_type": "stream",
          "name": "stdout",
          "text": [
            "Model Accuracy:\n"
          ]
        }
      ]
    },
    {
      "cell_type": "markdown",
      "source": [
        "accuracy * 100:.2f%\n"
      ],
      "metadata": {
        "id": "HyFqi6dQuhgu"
      }
    },
    {
      "cell_type": "markdown",
      "source": [
        "17."
      ],
      "metadata": {
        "id": "mHij4fVRvADQ"
      }
    },
    {
      "cell_type": "code",
      "source": [
        "import numpy as np\n",
        "import pandas as pd\n",
        "from sklearn.datasets import load_iris\n",
        "from sklearn.model_selection import train_test_split\n",
        "from sklearn.tree import DecisionTreeClassifier\n",
        "\n",
        "# Load the Iris dataset\n",
        "iris = load_iris()\n",
        "X = iris.data  # Features\n",
        "y = iris.target  # Target labels\n",
        "\n",
        "# Split the dataset into training and testing sets\n",
        "X_train, X_test, y_train, y_test = train_test_split(X, y, test_size=0.2, random_state=42)\n",
        "\n",
        "# Create a Decision Tree Classifier using Gini impurity\n",
        "clf = DecisionTreeClassifier(criterion='gini', random_state=42)\n",
        "\n",
        "# Train the model\n",
        "clf.fit(X_train, y_train)\n",
        "\n",
        "# Get feature importances\n",
        "feature_importances = clf.feature_importances_\n",
        "\n",
        "# Create a DataFrame for better visualization\n",
        "feature_names = iris.feature_names\n",
        "importance_df = pd.DataFrame({\n",
        "    'Feature': feature_names,\n",
        "    'Importance': feature_importances\n",
        "})\n",
        "\n",
        "# Sort the DataFrame by importance\n",
        "importance_df = importance_df.sort_values(by='Importance', ascending=False)\n",
        "\n",
        "# Print the feature importances\n",
        "print(\"Feature Importances:\")\n",
        "print(importance_df)"
      ],
      "metadata": {
        "colab": {
          "base_uri": "https://localhost:8080/"
        },
        "id": "y13yIod-upRL",
        "outputId": "5394ad57-9067-4ecd-ff32-fe3f473df4a1"
      },
      "execution_count": 2,
      "outputs": [
        {
          "output_type": "stream",
          "name": "stdout",
          "text": [
            "Feature Importances:\n",
            "             Feature  Importance\n",
            "2  petal length (cm)    0.906143\n",
            "3   petal width (cm)    0.077186\n",
            "1   sepal width (cm)    0.016670\n",
            "0  sepal length (cm)    0.000000\n"
          ]
        }
      ]
    },
    {
      "cell_type": "markdown",
      "source": [
        "18."
      ],
      "metadata": {
        "id": "ynjWAAtxvByc"
      }
    },
    {
      "cell_type": "code",
      "source": [
        "import numpy as np\n",
        "from sklearn.datasets import load_iris\n",
        "from sklearn.model_selection import train_test_split\n",
        "from sklearn.tree import DecisionTreeClassifier\n",
        "from sklearn.metrics import accuracy_score\n",
        "\n",
        "# Load the Iris dataset\n",
        "iris = load_iris()\n",
        "X = iris.data  # Features\n",
        "y = iris.target  # Target labels\n",
        "\n",
        "# Split the dataset into training and testing sets\n",
        "X_train, X_test, y_train, y_test = train_test_split(X, y, test_size=0.2, random_state=42)\n",
        "\n",
        "# Create a Decision Tree Classifier using Entropy as the criterion\n",
        "clf = DecisionTreeClassifier(criterion='entropy', random_state=42)\n",
        "\n",
        "# Train the model\n",
        "clf.fit(X_train, y_train)\n",
        "\n",
        "# Make predictions on the test set\n",
        "y_pred = clf.predict(X_test)\n",
        "\n",
        "# Calculate the accuracy\n",
        "accuracy = accuracy_score(y_test, y_pred)\n",
        "\n",
        "# Print the accuracy\n",
        "print(f\"Model Accuracy:\")"
      ],
      "metadata": {
        "colab": {
          "base_uri": "https://localhost:8080/"
        },
        "id": "5MpyMuu9u9Ez",
        "outputId": "47c71da9-9aac-4844-cdfc-5883aa177a8a"
      },
      "execution_count": 4,
      "outputs": [
        {
          "output_type": "stream",
          "name": "stdout",
          "text": [
            "Model Accuracy:\n"
          ]
        }
      ]
    },
    {
      "cell_type": "markdown",
      "source": [
        "{accuracy * 100:.2f}%"
      ],
      "metadata": {
        "id": "sHmH7R63vK1Y"
      }
    },
    {
      "cell_type": "markdown",
      "source": [
        "19."
      ],
      "metadata": {
        "id": "o5quiGGbvOA_"
      }
    },
    {
      "cell_type": "code",
      "source": [
        "import numpy as np\n",
        "import pandas as pd\n",
        "from sklearn.datasets import fetch_california_housing\n",
        "from sklearn.model_selection import train_test_split\n",
        "from sklearn.tree import DecisionTreeRegressor\n",
        "from sklearn.metrics import mean_squared_error\n",
        "\n",
        "# Load the California housing dataset\n",
        "housing = fetch_california_housing()\n",
        "X = housing.data  # Features\n",
        "y = housing.target  # Target variable (median house value)\n",
        "\n",
        "# Split the dataset into training and testing sets\n",
        "X_train, X_test, y_train, y_test = train_test_split(X, y, test_size=0.2, random_state=42)\n",
        "\n",
        "# Create a Decision Tree Regressor\n",
        "regressor = DecisionTreeRegressor(random_state=42)\n",
        "\n",
        "# Train the model\n",
        "regressor.fit(X_train, y_train)\n",
        "\n",
        "# Make predictions on the test set\n",
        "y_pred = regressor.predict(X_test)\n",
        "\n",
        "# Calculate Mean Squared Error (MSE)\n",
        "mse = mean_squared_error(y_test, y_pred)\n",
        "\n",
        "# Print the Mean Squared Error\n",
        "print(f\"Mean Squared Error: {mse:.2f}\")"
      ],
      "metadata": {
        "colab": {
          "base_uri": "https://localhost:8080/"
        },
        "id": "qHimlsn1vPhX",
        "outputId": "202118bd-0f2a-483a-932a-eed657508b98"
      },
      "execution_count": 1,
      "outputs": [
        {
          "output_type": "stream",
          "name": "stdout",
          "text": [
            "Mean Squared Error: 0.50\n"
          ]
        }
      ]
    },
    {
      "cell_type": "markdown",
      "source": [
        "20."
      ],
      "metadata": {
        "id": "3tB3SQIhvqSF"
      }
    },
    {
      "cell_type": "code",
      "source": [
        "import numpy as np\n",
        "import pandas as pd\n",
        "from sklearn.datasets import load_iris\n",
        "from sklearn.model_selection import train_test_split\n",
        "from sklearn.tree import DecisionTreeClassifier, export_graphviz\n",
        "import graphviz\n",
        "\n",
        "# Load the Iris dataset\n",
        "iris = load_iris()\n",
        "X = iris.data  # Features\n",
        "y = iris.target  # Target labels\n",
        "\n",
        "# Split the dataset into training and testing sets\n",
        "X_train, X_test, y_train, y_test = train_test_split(X, y, test_size=0.2, random_state=42)\n",
        "\n",
        "# Create a Decision Tree Classifier\n",
        "clf = DecisionTreeClassifier(random_state=42)\n",
        "\n",
        "# Train the model\n",
        "clf.fit(X_train, y_train)\n",
        "\n",
        "# Export the tree to DOT format\n",
        "dot_data = export_graphviz(clf, out_file=None,\n",
        "                           feature_names=iris.feature_names,\n",
        "                           class_names=iris.target_names,\n",
        "                           filled=True, rounded=True,\n",
        "                           special_characters=True)\n",
        "\n",
        "# Create a Graphviz source object\n",
        "graph = graphviz.Source(dot_data)\n",
        "\n",
        "# Render and display the tree\n",
        "graph.render(\"iris_decision_tree\")  # Saves the tree as a PDF file\n",
        "graph.view()"
      ],
      "metadata": {
        "colab": {
          "base_uri": "https://localhost:8080/",
          "height": 35
        },
        "id": "8JylVL3svr9u",
        "outputId": "267ed465-6225-4856-8304-8cd1bf3a5291"
      },
      "execution_count": 5,
      "outputs": [
        {
          "output_type": "execute_result",
          "data": {
            "text/plain": [
              "'iris_decision_tree.pdf'"
            ],
            "application/vnd.google.colaboratory.intrinsic+json": {
              "type": "string"
            }
          },
          "metadata": {},
          "execution_count": 5
        }
      ]
    },
    {
      "cell_type": "markdown",
      "source": [
        "21."
      ],
      "metadata": {
        "id": "n0TZ-Zk3v1L7"
      }
    },
    {
      "cell_type": "code",
      "source": [
        "import numpy as np\n",
        "from sklearn.datasets import load_iris\n",
        "from sklearn.model_selection import train_test_split\n",
        "from sklearn.tree import DecisionTreeClassifier\n",
        "from sklearn.metrics import accuracy_score\n",
        "\n",
        "# Load the Iris dataset\n",
        "iris = load_iris()\n",
        "X = iris.data  # Features\n",
        "y = iris.target  # Target labels\n",
        "\n",
        "# Split the dataset into training and testing sets\n",
        "X_train, X_test, y_train, y_test = train_test_split(X, y, test_size=0.2, random_state=42)\n",
        "\n",
        "# Create a Decision Tree Classifier with a maximum depth of 3\n",
        "clf_depth_3 = DecisionTreeClassifier(max_depth=3, random_state=42)\n",
        "\n",
        "# Train the model with limited depth\n",
        "clf_depth_3.fit(X_train, y_train)\n",
        "\n",
        "# Make predictions on the test set\n",
        "y_pred_depth_3 = clf_depth_3.predict(X_test)\n",
        "\n",
        "# Calculate accuracy for the limited depth model\n",
        "accuracy_depth_3 = accuracy_score(y_test, y_pred_depth_3)\n",
        "\n",
        "# Create a fully grown Decision Tree Classifier\n",
        "clf_full = DecisionTreeClassifier(random_state=42)\n",
        "\n",
        "# Train the fully grown model\n",
        "clf_full.fit(X_train, y_train)\n",
        "\n",
        "# Make predictions on the test set\n",
        "y_pred_full = clf_full.predict(X_test)\n",
        "\n",
        "# Calculate accuracy for the fully grown model\n",
        "accuracy_full = accuracy_score(y_test, y_pred_full)\n",
        "\n",
        "# Print the accuracies\n",
        "print(f\"Accuracy of Decision Tree with max depth of 3:%\")\n",
        "print(f\"Accuracy of Fully Grown Decision Tree:%\")"
      ],
      "metadata": {
        "colab": {
          "base_uri": "https://localhost:8080/"
        },
        "id": "b6KIj9o_v16D",
        "outputId": "d66f2943-e35e-4e53-e394-63ac57020403"
      },
      "execution_count": 6,
      "outputs": [
        {
          "output_type": "stream",
          "name": "stdout",
          "text": [
            "Accuracy of Decision Tree with max depth of 3: 100.00%\n",
            "Accuracy of Fully Grown Decision Tree: 100.00%\n"
          ]
        }
      ]
    },
    {
      "cell_type": "markdown",
      "source": [
        "22."
      ],
      "metadata": {
        "id": "z3e9WT2bxh2z"
      }
    },
    {
      "cell_type": "code",
      "source": [
        "import numpy as np\n",
        "from sklearn.datasets import load_iris\n",
        "from sklearn.model_selection import train_test_split\n",
        "from sklearn.tree import DecisionTreeClassifier\n",
        "from sklearn.metrics import accuracy_score\n",
        "\n",
        "# Load the Iris dataset\n",
        "iris = load_iris()\n",
        "X = iris.data  # Features\n",
        "y = iris.target  # Target labels\n",
        "\n",
        "# Split the dataset into training and testing sets\n",
        "X_train, X_test, y_train, y_test = train_test_split(X, y, test_size=0.2, random_state=42)\n",
        "\n",
        "# Create a Decision Tree Classifier with min_samples_split=5\n",
        "clf_min_samples_split = DecisionTreeClassifier(min_samples_split=5, random_state=42)\n",
        "\n",
        "# Train the model with min_samples_split=5\n",
        "clf_min_samples_split.fit(X_train, y_train)\n",
        "\n",
        "# Make predictions on the test set\n",
        "y_pred_min_samples_split = clf_min_samples_split.predict(X_test)\n",
        "\n",
        "# Calculate accuracy for the min_samples_split model\n",
        "accuracy_min_samples_split = accuracy_score(y_test, y_pred_min_samples_split)\n",
        "\n",
        "# Create a default Decision Tree Classifier\n",
        "clf_default = DecisionTreeClassifier(random_state=42)\n",
        "\n",
        "# Train the default model\n",
        "clf_default.fit(X_train, y_train)\n",
        "\n",
        "# Make predictions on the test set\n",
        "y_pred_default = clf_default.predict(X_test)\n",
        "\n",
        "# Calculate accuracy for the default model\n",
        "accuracy_default = accuracy_score(y_test, y_pred_default)\n",
        "\n",
        "# Print the accuracies\n",
        "print(f\"Accuracy of Decision Tree with min_samples_split=5:%\")\n",
        "print(f\"Accuracy of Default Decision Tree:%\")"
      ],
      "metadata": {
        "colab": {
          "base_uri": "https://localhost:8080/"
        },
        "id": "Mfn8eSJrxi5Z",
        "outputId": "4aea831a-fe2d-45f1-fe72-865d675ed1c1"
      },
      "execution_count": 7,
      "outputs": [
        {
          "output_type": "stream",
          "name": "stdout",
          "text": [
            "Accuracy of Decision Tree with min_samples_split=5:%\n",
            "Accuracy of Default Decision Tree:%\n"
          ]
        }
      ]
    },
    {
      "cell_type": "markdown",
      "source": [
        "{accuracy_min_samples_split * 100:.2f}%\n",
        "\n",
        " {accuracy_default * 100:.2f}%"
      ],
      "metadata": {
        "id": "B5_seNvEyBQr"
      }
    },
    {
      "cell_type": "markdown",
      "source": [
        "23."
      ],
      "metadata": {
        "id": "Bv_nGH9eyGkS"
      }
    },
    {
      "cell_type": "code",
      "source": [
        "import numpy as np\n",
        "from sklearn.datasets import load_iris\n",
        "from sklearn.model_selection import train_test_split\n",
        "from sklearn.tree import DecisionTreeClassifier\n",
        "from sklearn.metrics import accuracy_score\n",
        "from sklearn.preprocessing import StandardScaler\n",
        "\n",
        "# Load the Iris dataset\n",
        "iris = load_iris()\n",
        "X = iris.data  # Features\n",
        "y = iris.target  # Target labels\n",
        "\n",
        "# Split the dataset into training and testing sets\n",
        "X_train, X_test, y_train, y_test = train_test_split(X, y, test_size=0.2, random_state=42)\n",
        "\n",
        "# Create a Decision Tree Classifier for unscaled data\n",
        "clf_unscaled = DecisionTreeClassifier(random_state=42)\n",
        "\n",
        "# Train the model on unscaled data\n",
        "clf_unscaled.fit(X_train, y_train)\n",
        "\n",
        "# Make predictions on the test set\n",
        "y_pred_unscaled = clf_unscaled.predict(X_test)\n",
        "\n",
        "# Calculate accuracy for the unscaled model\n",
        "accuracy_unscaled = accuracy_score(y_test, y_pred_unscaled)\n",
        "\n",
        "# Feature scaling using StandardScaler\n",
        "scaler = StandardScaler()\n",
        "X_train_scaled = scaler.fit_transform(X_train)\n",
        "X_test_scaled = scaler.transform(X_test)\n",
        "\n",
        "# Create a Decision Tree Classifier for scaled data\n",
        "clf_scaled = DecisionTreeClassifier(random_state=42)\n",
        "\n",
        "# Train the model on scaled data\n",
        "clf_scaled.fit(X_train_scaled, y_train)\n",
        "\n",
        "# Make predictions on the test set\n",
        "y_pred_scaled = clf_scaled.predict(X_test_scaled)\n",
        "\n",
        "# Calculate accuracy for the scaled model\n",
        "accuracy_scaled = accuracy_score(y_test, y_pred_scaled)\n",
        "\n",
        "# Print the accuracies\n",
        "print(f\"Accuracy of Decision Tree on Unscaled Data:%\")\n",
        "print(f\"Accuracy of Decision Tree on Scaled Data:%\")"
      ],
      "metadata": {
        "colab": {
          "base_uri": "https://localhost:8080/"
        },
        "id": "y2IP3i6DyMY5",
        "outputId": "e15786bb-f9c7-4f2b-93a9-3791b457ad84"
      },
      "execution_count": 8,
      "outputs": [
        {
          "output_type": "stream",
          "name": "stdout",
          "text": [
            "Accuracy of Decision Tree on Unscaled Data: 100.00%\n",
            "Accuracy of Decision Tree on Scaled Data: 100.00%\n"
          ]
        }
      ]
    },
    {
      "cell_type": "markdown",
      "source": [
        "24."
      ],
      "metadata": {
        "id": "qt9U3cz0zGk5"
      }
    },
    {
      "cell_type": "code",
      "source": [
        "import numpy as np\n",
        "from sklearn.datasets import load_iris\n",
        "from sklearn.model_selection import train_test_split\n",
        "from sklearn.tree import DecisionTreeClassifier\n",
        "from sklearn.multiclass import OneVsRestClassifier\n",
        "from sklearn.metrics import accuracy_score\n",
        "\n",
        "# Load the Iris dataset\n",
        "iris = load_iris()\n",
        "X = iris.data  # Features\n",
        "y = iris.target  # Target labels\n",
        "\n",
        "# Split the dataset into training and testing sets\n",
        "X_train, X_test, y_train, y_test = train_test_split(X, y, test_size=0.2, random_state=42)\n",
        "\n",
        "# Create a Decision Tree Classifier\n",
        "base_classifier = DecisionTreeClassifier(random_state=42)\n",
        "\n",
        "# Create a One-vs-Rest Classifier\n",
        "ovr_classifier = OneVsRestClassifier(base_classifier)\n",
        "\n",
        "# Train the model using the One-vs-Rest strategy\n",
        "ovr_classifier.fit(X_train, y_train)\n",
        "\n",
        "# Make predictions on the test set\n",
        "y_pred = ovr_classifier.predict(X_test)\n",
        "\n",
        "# Calculate accuracy\n",
        "accuracy = accuracy_score(y_test, y_pred)\n",
        "\n",
        "# Print the accuracy\n",
        "print(f\"Accuracy of Decision Tree Classifier using One-vs-Rest strategy:%\")"
      ],
      "metadata": {
        "colab": {
          "base_uri": "https://localhost:8080/"
        },
        "id": "SBXxcOq_zHhM",
        "outputId": "0b691c60-8636-458f-e250-208f28b899d3"
      },
      "execution_count": 9,
      "outputs": [
        {
          "output_type": "stream",
          "name": "stdout",
          "text": [
            "Accuracy of Decision Tree Classifier using One-vs-Rest strategy: 100.00%\n"
          ]
        }
      ]
    },
    {
      "cell_type": "markdown",
      "source": [
        "25."
      ],
      "metadata": {
        "id": "g9sT8PdGzRtn"
      }
    },
    {
      "cell_type": "code",
      "source": [
        "import numpy as np\n",
        "import pandas as pd\n",
        "from sklearn.datasets import load_iris\n",
        "from sklearn.model_selection import train_test_split\n",
        "from sklearn.tree import DecisionTreeClassifier\n",
        "import matplotlib.pyplot as plt\n",
        "\n",
        "# Load the Iris dataset\n",
        "iris = load_iris()\n",
        "X = iris.data  # Features\n",
        "y = iris.target  # Target labels\n",
        "\n",
        "# Split the dataset into training and testing sets\n",
        "X_train, X_test, y_train, y_test = train_test_split(X, y, test_size=0.2, random_state=42)\n",
        "\n",
        "# Create a Decision Tree Classifier\n",
        "clf = DecisionTreeClassifier(random_state=42)\n",
        "\n",
        "# Train the model\n",
        "clf.fit(X_train, y_train)\n",
        "\n",
        "# Get feature importance scores\n",
        "feature_importances = clf.feature_importances_\n",
        "\n",
        "# Create a DataFrame for better visualization\n",
        "feature_names = iris.feature_names\n",
        "importance_df = pd.DataFrame({\n",
        "    'Feature': feature_names,\n",
        "    'Importance': feature_importances\n",
        "})\n",
        "\n",
        "# Sort the DataFrame by importance\n",
        "importance_df = importance_df.sort_values(by='Importance', ascending=False)\n",
        "\n",
        "# Print the feature importances\n",
        "print(\"Feature Importances:\")\n",
        "print(importance_df)\n",
        "\n",
        "# Plotting the feature importances\n",
        "plt.figure(figsize=(8, 5))\n",
        "plt.barh(importance_df['Feature'], importance_df['Importance'], color='skyblue')\n",
        "plt.xlabel('Importance Score')\n",
        "plt.title('Feature Importance Scores from Decision Tree Classifier')\n",
        "plt.show()"
      ],
      "metadata": {
        "colab": {
          "base_uri": "https://localhost:8080/",
          "height": 505
        },
        "id": "_J8aX_pVzSve",
        "outputId": "c972c988-bb70-4c96-8916-014130a735fa"
      },
      "execution_count": 10,
      "outputs": [
        {
          "output_type": "stream",
          "name": "stdout",
          "text": [
            "Feature Importances:\n",
            "             Feature  Importance\n",
            "2  petal length (cm)    0.906143\n",
            "3   petal width (cm)    0.077186\n",
            "1   sepal width (cm)    0.016670\n",
            "0  sepal length (cm)    0.000000\n"
          ]
        },
        {
          "output_type": "display_data",
          "data": {
            "text/plain": [
              "<Figure size 800x500 with 1 Axes>"
            ],
            "image/png": "[encoded data removed]"
          },
          "metadata": {}
        }
      ]
    },
    {
      "cell_type": "markdown",
      "source": [
        "26."
      ],
      "metadata": {
        "id": "xvGFUguSzrf4"
      }
    },
    {
      "cell_type": "code",
      "source": [
        "import numpy as np\n",
        "import pandas as pd\n",
        "from sklearn.datasets import fetch_california_housing\n",
        "from sklearn.model_selection import train_test_split\n",
        "from sklearn.tree import DecisionTreeRegressor\n",
        "from sklearn.metrics import mean_squared_error\n",
        "\n",
        "# Load the California housing dataset\n",
        "housing = fetch_california_housing()\n",
        "X = housing.data  # Features\n",
        "y = housing.target  # Target variable (median house value)\n",
        "\n",
        "# Split the dataset into training and testing sets\n",
        "X_train, X_test, y_train, y_test = train_test_split(X, y, test_size=0.2, random_state=42)\n",
        "\n",
        "# Create a Decision Tree Regressor with max_depth=5\n",
        "regressor_depth_5 = DecisionTreeRegressor(max_depth=5, random_state=42)\n",
        "\n",
        "# Train the model with limited depth\n",
        "regressor_depth_5.fit(X_train, y_train)\n",
        "\n",
        "# Make predictions on the test set\n",
        "y_pred_depth_5 = regressor_depth_5.predict(X_test)\n",
        "\n",
        "# Calculate Mean Squared Error (MSE) for the limited depth model\n",
        "mse_depth_5 = mean_squared_error(y_test, y_pred_depth_5)\n",
        "\n",
        "# Create a fully grown Decision Tree Regressor\n",
        "regressor_full = DecisionTreeRegressor(random_state=42)\n",
        "\n",
        "# Train the fully grown model\n",
        "regressor_full.fit(X_train, y_train)\n",
        "\n",
        "# Make predictions on the test set\n",
        "y_pred_full = regressor_full.predict(X_test)\n",
        "\n",
        "# Calculate Mean Squared Error (MSE) for the fully grown model\n",
        "mse_full = mean_squared_error(y_test, y_pred_full)\n",
        "\n",
        "# Print the Mean Squared Errors\n",
        "print(f\"Mean Squared Error of Decision Tree with max_depth=5: {mse_depth_5:.2f}\")\n",
        "print(f\"Mean Squared Error of Fully Grown Decision Tree: {mse_full:.2f}\")"
      ],
      "metadata": {
        "colab": {
          "base_uri": "https://localhost:8080/"
        },
        "id": "CcFezXXozsZz",
        "outputId": "73743fcb-3ce4-49d8-fd9b-67f287bde930"
      },
      "execution_count": 11,
      "outputs": [
        {
          "output_type": "stream",
          "name": "stdout",
          "text": [
            "Mean Squared Error of Decision Tree with max_depth=5: 0.52\n",
            "Mean Squared Error of Fully Grown Decision Tree: 0.50\n"
          ]
        }
      ]
    },
    {
      "cell_type": "markdown",
      "source": [
        "27."
      ],
      "metadata": {
        "id": "qEZzSkIOz8Xr"
      }
    },
    {
      "cell_type": "code",
      "source": [
        "import numpy as np\n",
        "import pandas as pd\n",
        "import matplotlib.pyplot as plt\n",
        "from sklearn.datasets import load_iris\n",
        "from sklearn.model_selection import train_test_split\n",
        "from sklearn.tree import DecisionTreeClassifier\n",
        "from sklearn.metrics import accuracy_score\n",
        "\n",
        "# Load the Iris dataset\n",
        "iris = load_iris()\n",
        "X = iris.data  # Features\n",
        "y = iris.target  # Target labels\n",
        "\n",
        "# Split the dataset into training and testing sets\n",
        "X_train, X_test, y_train, y_test = train_test_split(X, y, test_size=0.2, random_state=42)\n",
        "\n",
        "# Create a Decision Tree Classifier\n",
        "clf = DecisionTreeClassifier(random_state=42)\n",
        "\n",
        "# Train the model\n",
        "clf.fit(X_train, y_train)\n",
        "\n",
        "# Get the initial accuracy\n",
        "y_pred_initial = clf.predict(X_test)\n",
        "initial_accuracy = accuracy_score(y_test, y_pred_initial)\n",
        "print(f\"Initial Accuracy (without pruning): {initial_accuracy * 100:.2f}%\")\n",
        "\n",
        "# Get the effective alphas for pruning\n",
        "path = clf.cost_complexity_pruning_path(X_train, y_train)\n",
        "ccp_alphas, impurities = path.ccp_alphas, path.impurities\n",
        "\n",
        "# Train a Decision Tree Classifier for each alpha value\n",
        "clfs = []\n",
        "for ccp_alpha in ccp_alphas:\n",
        "    clf = DecisionTreeClassifier(random_state=42, ccp_alpha=ccp_alpha)\n",
        "    clf.fit(X_train, y_train)\n",
        "    clfs.append(clf)\n",
        "\n",
        "# Calculate accuracy for each model\n",
        "accuracies = [accuracy_score(y_test, clf.predict(X_test)) for clf in clfs]\n",
        "\n",
        "# Plotting the accuracy vs. alpha values\n",
        "plt.figure(figsize=(10, 6))\n",
        "plt.plot(ccp_alphas, accuracies, marker='o', label='Accuracy vs. alpha')\n",
        "plt.axhline(y=initial_accuracy, color='r', linestyle='--', label='Initial Accuracy')\n",
        "plt.title('Effect of Cost Complexity Pruning on Accuracy')\n",
        "plt.xlabel('Alpha (ccp_alpha)')\n",
        "plt.ylabel('Accuracy')\n",
        "plt.xticks(ccp_alphas)\n",
        "plt.legend()\n",
        "plt.grid()\n",
        "plt.show()"
      ],
      "metadata": {
        "colab": {
          "base_uri": "https://localhost:8080/",
          "height": 441
        },
        "id": "J7TjGTmKz9bK",
        "outputId": "a4f25a91-8cca-4ce4-d361-3a8f0439235e"
      },
      "execution_count": 12,
      "outputs": [
        {
          "output_type": "stream",
          "name": "stdout",
          "text": [
            "Initial Accuracy (without pruning): 100.00%\n"
          ]
        },
        {
          "output_type": "display_data",
          "data": {
            "text/plain": [
              "<Figure size 1000x600 with 1 Axes>"
            ],
            "image/png": "[encoded data removed]"
          },
          "metadata": {}
        }
      ]
    },
    {
      "cell_type": "markdown",
      "source": [
        "28."
      ],
      "metadata": {
        "id": "6NtNja7r0Mtg"
      }
    },
    {
      "cell_type": "code",
      "source": [
        "import numpy as np\n",
        "from sklearn.datasets import load_iris\n",
        "from sklearn.model_selection import train_test_split\n",
        "from sklearn.tree import DecisionTreeClassifier\n",
        "from sklearn.metrics import classification_report, accuracy_score\n",
        "\n",
        "# Load the Iris dataset\n",
        "iris = load_iris()\n",
        "X = iris.data  # Features\n",
        "y = iris.target  # Target labels\n",
        "\n",
        "# Split the dataset into training and testing sets\n",
        "X_train, X_test, y_train, y_test = train_test_split(X, y, test_size=0.2, random_state=42)\n",
        "\n",
        "# Create a Decision Tree Classifier\n",
        "clf = DecisionTreeClassifier(random_state=42)\n",
        "\n",
        "# Train the model\n",
        "clf.fit(X_train, y_train)\n",
        "\n",
        "# Make predictions on the test set\n",
        "y_pred = clf.predict(X_test)\n",
        "\n",
        "# Calculate accuracy\n",
        "accuracy = accuracy_score(y_test, y_pred)\n",
        "\n",
        "# Generate classification report\n",
        "report = classification_report(y_test, y_pred, target_names=iris.target_names)\n",
        "\n",
        "# Print the accuracy and classification report\n",
        "print(f\"Accuracy of Decision Tree Classifier: {accuracy * 100:.2f}%\")\n",
        "print(\"\\nClassification Report:\")\n",
        "print(report)"
      ],
      "metadata": {
        "colab": {
          "base_uri": "https://localhost:8080/"
        },
        "id": "Hzr3NW-Z0Nub",
        "outputId": "c8c33482-76be-485a-9d53-cf75f35a342b"
      },
      "execution_count": 13,
      "outputs": [
        {
          "output_type": "stream",
          "name": "stdout",
          "text": [
            "Accuracy of Decision Tree Classifier: 100.00%\n",
            "\n",
            "Classification Report:\n",
            "              precision    recall  f1-score   support\n",
            "\n",
            "      setosa       1.00      1.00      1.00        10\n",
            "  versicolor       1.00      1.00      1.00         9\n",
            "   virginica       1.00      1.00      1.00        11\n",
            "\n",
            "    accuracy                           1.00        30\n",
            "   macro avg       1.00      1.00      1.00        30\n",
            "weighted avg       1.00      1.00      1.00        30\n",
            "\n"
          ]
        }
      ]
    },
    {
      "cell_type": "markdown",
      "source": [
        "29."
      ],
      "metadata": {
        "id": "hMplEoKC0aqC"
      }
    },
    {
      "cell_type": "code",
      "source": [
        "import numpy as np\n",
        "import pandas as pd\n",
        "import seaborn as sns\n",
        "import matplotlib.pyplot as plt\n",
        "from sklearn.datasets import load_iris\n",
        "from sklearn.model_selection import train_test_split\n",
        "from sklearn.tree import DecisionTreeClassifier\n",
        "from sklearn.metrics import confusion_matrix\n",
        "\n",
        "# Load the Iris dataset\n",
        "iris = load_iris()\n",
        "X = iris.data  # Features\n",
        "y = iris.target  # Target labels\n",
        "\n",
        "# Split the dataset into training and testing sets\n",
        "X_train, X_test, y_train, y_test = train_test_split(X, y, test_size=0.2, random_state=42)\n",
        "\n",
        "# Create a Decision Tree Classifier\n",
        "clf = DecisionTreeClassifier(random_state=42)\n",
        "\n",
        "# Train the model\n",
        "clf.fit(X_train, y_train)\n",
        "\n",
        "# Make predictions on the test set\n",
        "y_pred = clf.predict(X_test)\n",
        "\n",
        "# Generate the confusion matrix\n",
        "cm = confusion_matrix(y_test, y_pred)\n",
        "\n",
        "# Create a DataFrame for better visualization\n",
        "cm_df = pd.DataFrame(cm, index=iris.target_names, columns=iris.target_names)\n",
        "\n",
        "# Plotting the confusion matrix using seaborn\n",
        "plt.figure(figsize=(8, 6))\n",
        "sns.heatmap(cm_df, annot=True, fmt='d', cmap='Blues', cbar=False)\n",
        "plt.title('Confusion Matrix')\n",
        "plt.xlabel('Predicted Label')\n",
        "plt.ylabel('True Label')\n",
        "plt.show()"
      ],
      "metadata": {
        "colab": {
          "base_uri": "https://localhost:8080/",
          "height": 521
        },
        "id": "XWm6KcpL0cbc",
        "outputId": "3c04a4a1-0bd8-4fd0-9e95-8b907b858f14"
      },
      "execution_count": 14,
      "outputs": [
        {
          "output_type": "display_data",
          "data": {
            "text/plain": [
              "<Figure size 800x600 with 1 Axes>"
            ],
            "image/png": "[encoded data removed]"
          },
          "metadata": {}
        }
      ]
    },
    {
      "cell_type": "markdown",
      "source": [
        "30."
      ],
      "metadata": {
        "id": "rIAM8TTI0wbU"
      }
    },
    {
      "cell_type": "code",
      "source": [
        "import numpy as np\n",
        "from sklearn.datasets import load_iris\n",
        "from sklearn.model_selection import train_test_split, GridSearchCV\n",
        "from sklearn.tree import DecisionTreeClassifier\n",
        "from sklearn.metrics import classification_report, accuracy_score\n",
        "\n",
        "# Load the Iris dataset\n",
        "iris = load_iris()\n",
        "X = iris.data  # Features\n",
        "y = iris.target  # Target labels\n",
        "\n",
        "# Split the dataset into training and testing sets\n",
        "X_train, X_test, y_train, y_test = train_test_split(X, y, test_size=0.2, random_state=42)\n",
        "\n",
        "# Create a Decision Tree Classifier\n",
        "clf = DecisionTreeClassifier(random_state=42)\n",
        "\n",
        "# Define the parameter grid for GridSearchCV\n",
        "param_grid = {\n",
        "    'max_depth': [None, 2, 3, 4, 5, 6, 7, 8, 9, 10],\n",
        "    'min_samples_split': [2, 3, 4, 5, 6, 7, 8, 9, 10]\n",
        "}\n",
        "\n",
        "# Create a GridSearchCV object\n",
        "grid_search = GridSearchCV(estimator=clf, param_grid=param_grid, cv=5, scoring='accuracy')\n",
        "\n",
        "# Fit the GridSearchCV object to the training data\n",
        "grid_search.fit(X_train, y_train)\n",
        "\n",
        "# Get the best parameters and best score\n",
        "best_params = grid_search.best_params_\n",
        "best_score = grid_search.best_score_\n",
        "\n",
        "# Print the best parameters and best score\n",
        "print(f\"Best Parameters: {best_params}\")\n",
        "print(f\"Best Cross-Validation Score: {best_score:.2f}\")\n",
        "\n",
        "# Train the model with the best parameters\n",
        "best_clf = grid_search.best_estimator_\n",
        "best_clf.fit(X_train, y_train)\n",
        "\n",
        "# Make predictions on the test set\n",
        "y_pred = best_clf.predict(X_test)\n",
        "\n",
        "# Calculate accuracy on the test set\n",
        "accuracy = accuracy_score(y_test, y_pred)\n",
        "\n",
        "# Print the accuracy and classification report\n",
        "print(f\"Accuracy of Decision Tree Classifier with Optimal Parameters: {accuracy * 100:.2f}%\")\n",
        "print(\"\\nClassification Report:\")\n",
        "print(classification_report(y_test, y_pred, target_names=iris.target_names))"
      ],
      "metadata": {
        "colab": {
          "base_uri": "https://localhost:8080/"
        },
        "id": "wQI8p5y60xWs",
        "outputId": "4dc3ad10-1e71-4cc3-8c79-83141394ef75"
      },
      "execution_count": 15,
      "outputs": [
        {
          "output_type": "stream",
          "name": "stdout",
          "text": [
            "Best Parameters: {'max_depth': None, 'min_samples_split': 2}\n",
            "Best Cross-Validation Score: 0.94\n",
            "Accuracy of Decision Tree Classifier with Optimal Parameters: 100.00%\n",
            "\n",
            "Classification Report:\n",
            "              precision    recall  f1-score   support\n",
            "\n",
            "      setosa       1.00      1.00      1.00        10\n",
            "  versicolor       1.00      1.00      1.00         9\n",
            "   virginica       1.00      1.00      1.00        11\n",
            "\n",
            "    accuracy                           1.00        30\n",
            "   macro avg       1.00      1.00      1.00        30\n",
            "weighted avg       1.00      1.00      1.00        30\n",
            "\n"
          ]
        }
      ]
    }
  ]
}